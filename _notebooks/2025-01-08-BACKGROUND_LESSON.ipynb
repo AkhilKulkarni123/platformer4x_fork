{
 "cells": [
  {
   "cell_type": "markdown",
   "metadata": {},
   "source": [
    "## <span style=\"color:rgb(6, 231, 227); text-shadow: 3px 3px 8px #4682B4; font-weight: bold; font-size: 1.3em;\">Intro to Backgrounds:</span>"
   ]
  },
  {
   "cell_type": "markdown",
   "metadata": {},
   "source": [
    "What are Backgrounds? What do they do?"
   ]
  }
 ],
 "metadata": {
  "language_info": {
   "name": "python"
  }
 },
 "nbformat": 4,
 "nbformat_minor": 2
}
